{
 "cells": [
  {
   "cell_type": "markdown",
   "metadata": {},
   "source": [
    "作業1：\n",
    "\n",
    "請上 Kaggle, 在 Competitions 或 Dataset 中找一組競賽或資料並寫下：\n",
    "\n",
    "<b>1. 你選的這組資料為何重要</b>\n",
    "我選的資料是巴塞隆納市政府(Ajuntament de Barcelona)的開放資料，提供了該市各方面的資料，像是意外事故、空氣品質、市民出生死亡、市區巴士及其他交通工具、移民、失業率等，是很豐富的資料，網址為https://www.kaggle.com/xvivancos/barcelona-data-sets/version/2#unemployment.csv。\n",
    "巴塞隆納是西班牙一個很特別的地區，該市因為經濟較其他地區發達且擁有大量觀光人口，加上長期以來政治上與西班牙其他地區想法不同，醞釀了獨立的氣氛，這組資料可以讓我們更仔細去觀察該市的各個面貌，若有其他城市或國家的比較，也可做交叉分析。\n",
    "\n",
    "<b>2. 資料從何而來 (tips: 譬如提供者是誰、以什麼方式蒐集)</b>\n",
    "該組資料的提供者為巴塞隆納市政府(Ajuntament de Barcelona)，這組資料從2010年開始蒐集，在Open Data BNC的網站上，可以查詢到該資料來源眾多，由市政府統整及開放使用，且每個小資料都有標示更新頻率(每年、每月、即時等)，以及資料的來源單位，例如: 巴塞隆納文化資料(Culture data of the city of Barcelona)的來源為巴塞市政府文化部(Institut de Cultura)。\n",
    "\n",
    "<b>3. 蒐集而來的資料型態為何</b>\n",
    "大部分的資料是csv檔，也有部分檔案是xml檔或json檔，亦有geoJSON、rdf或kml檔等，也不限於提供單一檔案類型，型態多為表格，並詳述各欄位名稱，也有地理資料。\n",
    "\n",
    "<b>4. 這組資料想解決的問題如何評估</b>\n",
    "這組資料可解決綜合性的問題，尤其是年份標示清楚、地理資訊齊全，且為政府公開資料，具有一定的可信度，可針對欲探討的方面進行分析，解決問題。"
   ]
  },
  {
   "cell_type": "markdown",
   "metadata": {},
   "source": [
    "---"
   ]
  },
  {
   "cell_type": "markdown",
   "metadata": {},
   "source": [
    "作業2：\n",
    "\n",
    "想像你經營一個自由載客車隊，你希望能透過數據分析以提升業績，請你思考並描述你如何規劃整體的分析/解決方案：\n",
    "\n",
    "<b>1. 核心問題為何 (tips：如何定義 「提升業績 & 你的假設」)</b>\n",
    "從自身經驗出發想像載客車隊經營這件事，我認為「搭得到車」和「等待時間短」是最迫切的需求，對應到經營者的角度則是「預約完成率」和「等待時間」的的考量，達成這兩項就可以提升業績。\n",
    "\n",
    "<b>2. 資料從何而來 (tips：哪些資料可能會對你想問的問題產生影響 & 資料如何蒐集)</b>\n",
    "以目標縣市的即時交通資料為主，了解各時段的車況及擁塞程度，及早應變，另一方面也須針對叫不到車的偏遠地區做調查，可能可以提供預約搭車服務。\n",
    "\n",
    "<b>3. 蒐集而來的資料型態為何</b>\n",
    "蒐集的資料可能會是地理資訊和相關數值（平均車速、擁塞程度等），應該不會是已經整理好的表格。\n",
    "\n",
    "<b>4. 你要回答的問題，其如何評估 (tips：你的假設如何驗證)</b>\n",
    "先以分區或分路段的方式得出結論，再以google map的路程查詢比對。"
   ]
  },
  {
   "cell_type": "markdown",
   "metadata": {},
   "source": [
    "---"
   ]
  },
  {
   "cell_type": "markdown",
   "metadata": {},
   "source": [
    "## 練習時間\n",
    "#### 請寫一個函式用來計算 Mean Square Error\n",
    "$ MSE = \\frac{1}{n}\\sum_{i=1}^{n}{(Y_i - \\hat{Y}_i)^2} $\n",
    "\n",
    "### Hint: [如何取平方](https://googoodesign.gitbooks.io/-ezpython/unit-1.html)"
   ]
  },
  {
   "cell_type": "code",
   "execution_count": 1,
   "metadata": {
    "collapsed": true
   },
   "outputs": [],
   "source": [
    "import numpy as np\n",
    "import matplotlib.pyplot as plt"
   ]
  },
  {
   "cell_type": "code",
   "execution_count": 2,
   "metadata": {
    "collapsed": true
   },
   "outputs": [],
   "source": [
    "def mean_squared_error(y, yp): #RMSE: 觀測值與實際值偏差的平方和與觀測次數比值(的平方根)。\n",
    "    \"\"\"\n",
    "    計算MSE\n",
    "    Args:\n",
    "        -y: 實際值\n",
    "        -yp: 預測值\n",
    "    Returns:\n",
    "        - mse: MSE\n",
    "    \"\"\"\n",
    "    mse = MSE = sum((y-yp)**2) / len(y) # y-yp是array的elemenwise operation。\n",
    "    return mse\n",
    "    \n",
    "    "
   ]
  },
  {
   "cell_type": "code",
   "execution_count": 3,
   "metadata": {
    "collapsed": true
   },
   "outputs": [],
   "source": [
    "def mean_absolute_error(y, yp):\n",
    "    \"\"\"\n",
    "    計算 MAE\n",
    "    Args:\n",
    "        - y: 實際值\n",
    "        - yp: 預測值\n",
    "    Return:\n",
    "        - mae: MAE\n",
    "    \"\"\"\n",
    "    mae = MAE = sum(abs(y - yp)) / len(y)\n",
    "    return mae"
   ]
  },
  {
   "cell_type": "code",
   "execution_count": 4,
   "metadata": {},
   "outputs": [
    {
     "data": {
      "image/png": "[encoded data removed]",
      "text/plain": [
       "<matplotlib.figure.Figure at 0x19378c99860>"
      ]
     },
     "metadata": {},
     "output_type": "display_data"
    }
   ],
   "source": [
    "w = 3\n",
    "b = 0.5\n",
    "\n",
    "x_lin = np.linspace(0, 100, 101)\n",
    "\n",
    "y = (x_lin + np.random.randn(101) * 5) * w + b\n",
    "\n",
    "plt.plot(x_lin, y, 'b.', label = 'data points')\n",
    "plt.title(\"Assume we have data points\")\n",
    "plt.legend(loc = 2)\n",
    "plt.show()"
   ]
  },
  {
   "cell_type": "code",
   "execution_count": 5,
   "metadata": {},
   "outputs": [
    {
     "data": {
      "image/png": "[encoded data removed]",
      "text/plain": [
       "<matplotlib.figure.Figure at 0x1937ac02278>"
      ]
     },
     "metadata": {},
     "output_type": "display_data"
    }
   ],
   "source": [
    "y_hat = x_lin * w + b\n",
    "plt.plot(x_lin, y, 'b.', label = 'data')\n",
    "plt.plot(x_lin, y_hat, 'r-', label = 'prediction')\n",
    "plt.title(\"Assume we have data points (And the prediction)\")\n",
    "plt.legend(loc = 2)\n",
    "plt.show()"
   ]
  },
  {
   "cell_type": "code",
   "execution_count": 6,
   "metadata": {},
   "outputs": [
    {
     "name": "stdout",
     "output_type": "stream",
     "text": [
      "The Mean squared error is 252.911\n",
      "The Mean absolute error is 12.966\n"
     ]
    }
   ],
   "source": [
    "# 執行 Function, 確認有沒有正常執行\n",
    "MSE = mean_squared_error(y, y_hat)\n",
    "MAE = mean_absolute_error(y, y_hat)\n",
    "print(\"The Mean squared error is %.3f\" % (MSE))\n",
    "print(\"The Mean absolute error is %.3f\" % (MAE))"
   ]
  },
  {
   "cell_type": "markdown",
   "metadata": {},
   "source": [
    "Reference:\n",
    "    https://codertw.com/%E7%A8%8B%E5%BC%8F%E8%AA%9E%E8%A8%80/404042/?fbclid=IwAR0MU432WxTGRaAlVwDK1Vn3rzKdtNORhX8d4ClSk-wt40eZ5GV0czJphcg"
   ]
  }
 ],
 "metadata": {
  "anaconda-cloud": {},
  "kernelspec": {
   "display_name": "Python 3",
   "language": "python",
   "name": "python3"
  },
  "language_info": {
   "codemirror_mode": {
    "name": "ipython",
    "version": 3
   },
   "file_extension": ".py",
   "mimetype": "text/x-python",
   "name": "python",
   "nbconvert_exporter": "python",
   "pygments_lexer": "ipython3",
   "version": "3.6.1"
  }
 },
 "nbformat": 4,
 "nbformat_minor": 1
}
